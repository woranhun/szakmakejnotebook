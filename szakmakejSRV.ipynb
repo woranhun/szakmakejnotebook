{
 "cells": [
  {
   "cell_type": "markdown",
   "metadata": {},
   "source": [
    "ip: 192.168.1.123"
   ]
  },
  {
   "cell_type": "markdown",
   "metadata": {},
   "source": [
    "# Harc a bejutásért!\n",
    "## Level00:       \n",
    "### Feladat:\n",
    "* Lépj be SSH-n keresztül a docker-konténerbe **level00** userként. A jelszó **level00**.\n",
    "  * ssh level0@192.168.1.123 -p **portszám** A portszámot  majd a képernyőn látod. Ha kiír **yes/no**-t írd be **yes**. Ezután **jelszót fog kérni** itt **add meg a fent látható jelszót**.\n",
    "    "
   ]
  },
  {
   "cell_type": "markdown",
   "metadata": {},
   "source": []
  },
  {
   "cell_type": "code",
   "execution_count": null,
   "metadata": {},
   "outputs": [],
   "source": []
  }
 ],
 "metadata": {
  "kernelspec": {
   "display_name": "Python 3",
   "language": "python",
   "name": "python3"
  },
  "language_info": {
   "codemirror_mode": {
    "name": "ipython",
    "version": 3
   },
   "file_extension": ".py",
   "mimetype": "text/x-python",
   "name": "python",
   "nbconvert_exporter": "python",
   "pygments_lexer": "ipython3",
   "version": "3.5.2"
  }
 },
 "nbformat": 4,
 "nbformat_minor": 2
}
