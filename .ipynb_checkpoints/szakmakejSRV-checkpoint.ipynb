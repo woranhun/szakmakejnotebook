{
 "cells": [
  {
   "cell_type": "markdown",
   "metadata": {},
   "source": [
    "ip: 192.168.1.123"
   ]
  },
  {
   "cell_type": "markdown",
   "metadata": {},
   "source": [
    "# Harc a bejutásért!\n",
    "## Level00: A kezdetek avagy a su - használata       \n",
    "### Feladat:\n",
    "* Lépj be SSH-n keresztül a docker-konténerbe **level00** userként. A jelszó **level00**.\n",
    "  * ssh level0@192.168.1.123 -p **portszám** A portszámot  majd a képernyőn látod. Ha kiír **yes/no**-t írd be **yes**. Ezután **jelszót fog kérni** itt **add meg a fent látható jelszót**.\n",
    "* A ** su - *felhasznalo* ** parancssal tudsz átlépni a felhasználók között. Próbálj meg átlépni a **level01** felhaszálóval az  első színtre. A jelszó pedig **csakalinux** .\n",
    "    "
   ]
  },
  {
   "cell_type": "markdown",
   "metadata": {},
   "source": [
    "## Level01: Az első fileolvasás"
   ]
  },
  {
   "cell_type": "markdown",
   "metadata": {},
   "source": [
    "## Level02: Az  első rejtvény avagy a rejtett fileok"
   ]
  },
  {
   "cell_type": "markdown",
   "metadata": {},
   "source": [
    "## Level03: A  Telefon IP-je"
   ]
  },
  {
   "cell_type": "markdown",
   "metadata": {},
   "source": []
  }
 ],
 "metadata": {
  "kernelspec": {
   "display_name": "Python 3",
   "language": "python",
   "name": "python3"
  },
  "language_info": {
   "codemirror_mode": {
    "name": "ipython",
    "version": 3
   },
   "file_extension": ".py",
   "mimetype": "text/x-python",
   "name": "python",
   "nbconvert_exporter": "python",
   "pygments_lexer": "ipython3",
   "version": "3.5.2"
  }
 },
 "nbformat": 4,
 "nbformat_minor": 2
}
